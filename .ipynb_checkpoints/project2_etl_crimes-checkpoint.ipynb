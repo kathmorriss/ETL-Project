{
 "cells": [
  {
   "cell_type": "code",
   "execution_count": 1,
   "metadata": {},
   "outputs": [
    {
     "ename": "ModuleNotFoundError",
     "evalue": "No module named 'config'",
     "output_type": "error",
     "traceback": [
      "\u001b[1;31m---------------------------------------------------------------------------\u001b[0m",
      "\u001b[1;31mModuleNotFoundError\u001b[0m                       Traceback (most recent call last)",
      "\u001b[1;32m<ipython-input-1-f9d14d0fb7b3>\u001b[0m in \u001b[0;36m<module>\u001b[1;34m()\u001b[0m\n\u001b[0;32m      6\u001b[0m \u001b[0mpymysql\u001b[0m\u001b[1;33m.\u001b[0m\u001b[0minstall_as_MySQLdb\u001b[0m\u001b[1;33m(\u001b[0m\u001b[1;33m)\u001b[0m\u001b[1;33m\u001b[0m\u001b[0m\n\u001b[0;32m      7\u001b[0m \u001b[1;33m\u001b[0m\u001b[0m\n\u001b[1;32m----> 8\u001b[1;33m \u001b[1;32mfrom\u001b[0m \u001b[0mconfig\u001b[0m \u001b[1;32mimport\u001b[0m \u001b[0mmypass\u001b[0m\u001b[1;33m\u001b[0m\u001b[0m\n\u001b[0m",
      "\u001b[1;31mModuleNotFoundError\u001b[0m: No module named 'config'"
     ]
    }
   ],
   "source": [
    "import pandas as pd\n",
    "from sqlalchemy import create_engine\n",
    "\n",
    "# PyMySQL \n",
    "import pymysql\n",
    "pymysql.install_as_MySQLdb()\n",
    "\n",
    "from config import mypass"
   ]
  },
  {
   "cell_type": "code",
   "execution_count": null,
   "metadata": {},
   "outputs": [],
   "source": [
    "kccrime_file = \"Resources/kccrime_2015.csv\"\n",
    "kccrime_df = pd.read_csv(kccrime_file)\n",
    "kccrime_df.head()"
   ]
  },
  {
   "cell_type": "code",
   "execution_count": null,
   "metadata": {},
   "outputs": [],
   "source": [
    "# Create a filtered dataframe from specific columns\n",
    "kccrime_cols = [\"Reported_Date\", \"Offense\", \"Description\", \"City\"]\n",
    "kccrime_transformed= kccrime_df[kccrime_cols].copy()\n",
    "\n",
    "# Rename the column headers\n",
    "kccrime_transformed = kccrime_transformed.rename(columns=\\\n",
    "                                        {\"Reported_Date\": \"date_reported\",\\\n",
    "                                        \"Offense\": \"crime_code\",\\\n",
    "                                        \"Description\" : \"crime_description\",\\\n",
    "                                        \"City\" : \"city\"\n",
    "                                        })\n",
    "\n",
    "kccrime_transformed.head()"
   ]
  },
  {
   "cell_type": "code",
   "execution_count": null,
   "metadata": {},
   "outputs": [],
   "source": [
    "lacrime_file = \"Resources/lacrime_2015.csv\"\n",
    "lacrime_df = pd.read_csv(lacrime_file)\n",
    "lacrime_df.head()"
   ]
  },
  {
   "cell_type": "code",
   "execution_count": null,
   "metadata": {},
   "outputs": [],
   "source": [
    "# Create a filtered dataframe from specific columns\n",
    "lacrime_cols = [\"Date Occurred\", \"Crime Code\", \"Crime Code Description\", \"City\"]\n",
    "lacrime_transformed= lacrime_df[lacrime_cols].copy()\n",
    "\n",
    "# Rename the column headers\n",
    "lacrime_transformed = lacrime_transformed.rename(columns=\\\n",
    "                                        {\"Date Occurred\": \"date_reported\",\\\n",
    "                                        \"Crime Code\": \"crime_code\",\\\n",
    "                                        \"Crime Code Description\" : \"crime_description\",\\\n",
    "                                        \"City\" : \"city\"\n",
    "                                        })\n",
    "\n",
    "\n",
    "lacrime_transformed.head()"
   ]
  },
  {
   "cell_type": "code",
   "execution_count": null,
   "metadata": {},
   "outputs": [],
   "source": [
    "#created database connection\n",
    "connection_string = f\"root:{mypass}@localhost/crimes_db\"\n",
    "engine = create_engine(f'mysql://{connection_string}')"
   ]
  },
  {
   "cell_type": "code",
   "execution_count": null,
   "metadata": {},
   "outputs": [],
   "source": [
    "# Confirm tables\n",
    "engine.table_names()"
   ]
  },
  {
   "cell_type": "code",
   "execution_count": null,
   "metadata": {},
   "outputs": [],
   "source": [
    "lacrime_transformed.to_sql(name='la_crimes', if_exists='replace', con=engine, index=False)"
   ]
  },
  {
   "cell_type": "code",
   "execution_count": null,
   "metadata": {},
   "outputs": [],
   "source": [
    "kccrime_transformed.to_sql(name='kc_crimes', chunksize=1000, con=engine, if_exists='replace', index=False)"
   ]
  },
  {
   "cell_type": "code",
   "execution_count": null,
   "metadata": {},
   "outputs": [],
   "source": []
  }
 ],
 "metadata": {
  "kernelspec": {
   "display_name": "Python 3",
   "language": "python",
   "name": "python3"
  },
  "language_info": {
   "codemirror_mode": {
    "name": "ipython",
    "version": 3
   },
   "file_extension": ".py",
   "mimetype": "text/x-python",
   "name": "python",
   "nbconvert_exporter": "python",
   "pygments_lexer": "ipython3",
   "version": "3.6.5"
  }
 },
 "nbformat": 4,
 "nbformat_minor": 2
}
